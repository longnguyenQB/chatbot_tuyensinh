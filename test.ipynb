{
 "cells": [
  {
   "cell_type": "code",
   "execution_count": 1,
   "metadata": {},
   "outputs": [],
   "source": [
    "import pandas as pd\n",
    "\n",
    "df = pd.read_excel(\"Tuyensinh.xlsx\")"
   ]
  },
  {
   "cell_type": "code",
   "execution_count": 4,
   "metadata": {},
   "outputs": [
    {
     "data": {
      "text/plain": [
       "['TT',\n",
       " 'Cấp',\n",
       " 'Khoa',\n",
       " 'Ngành',\n",
       " 'Mã ngành',\n",
       " 'Khối thi',\n",
       " 'Xét tuyên theo học bạ',\n",
       " 'link',\n",
       " 'Điểm năm 2021',\n",
       " 'Học phí',\n",
       " 'Xét tuyển online',\n",
       " 'Hồ sơ',\n",
       " 'Thời gian',\n",
       " 'Chương trình đào tạo',\n",
       " 'Ra trường làm việc gì',\n",
       " 'Unnamed: 15',\n",
       " 'Unnamed: 16']"
      ]
     },
     "execution_count": 4,
     "metadata": {},
     "output_type": "execute_result"
    }
   ],
   "source": [
    "list(df.columns)"
   ]
  },
  {
   "cell_type": "code",
   "execution_count": null,
   "metadata": {},
   "outputs": [],
   "source": []
  }
 ],
 "metadata": {
  "interpreter": {
   "hash": "619b032318538aa5b349484e1f2a3c4e15bd93fb76ad74d801e1954db0355008"
  },
  "kernelspec": {
   "display_name": "Python 3.8.8 64-bit ('base': conda)",
   "name": "python3"
  },
  "language_info": {
   "codemirror_mode": {
    "name": "ipython",
    "version": 3
   },
   "file_extension": ".py",
   "mimetype": "text/x-python",
   "name": "python",
   "nbconvert_exporter": "python",
   "pygments_lexer": "ipython3",
   "version": "3.8.8"
  },
  "orig_nbformat": 4
 },
 "nbformat": 4,
 "nbformat_minor": 2
}
